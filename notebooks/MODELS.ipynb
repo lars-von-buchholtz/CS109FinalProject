{
 "cells": [
  {
   "cell_type": "markdown",
   "metadata": {},
   "source": [
    "# Models"
   ]
  },
  {
   "cell_type": "code",
   "execution_count": 2,
   "metadata": {
    "collapsed": true,
    "hide": true
   },
   "outputs": [],
   "source": [
    "# import required modules\n",
    "import warnings\n",
    "warnings.filterwarnings('ignore')\n",
    "\n",
    "import pickle\n",
    "\n",
    "import numpy as np\n",
    "import pandas as pd\n",
    "import matplotlib\n",
    "import matplotlib.pyplot as plt\n",
    "import sklearn.metrics as metrics\n",
    "from scipy import stats\n",
    "from sklearn.model_selection import cross_val_score\n",
    "from sklearn.model_selection import GridSearchCV\n",
    "from sklearn.model_selection import train_test_split\n",
    "\n",
    "import statsmodels.api as sm\n",
    "from statsmodels.api import OLS\n",
    "\n",
    "from sklearn.model_selection import KFold\n",
    "from sklearn.decomposition import PCA\n",
    "from sklearn.linear_model import LinearRegression\n",
    "from sklearn.linear_model import Ridge\n",
    "from sklearn.linear_model import RidgeCV\n",
    "from sklearn.linear_model import ElasticNetCV\n",
    "from sklearn.linear_model import ElasticNet\n",
    "from sklearn.utils import resample\n",
    "from sklearn.model_selection import cross_val_score\n",
    "from sklearn.metrics import accuracy_score\n",
    "from sklearn.metrics import r2_score\n",
    "from sklearn.ensemble import GradientBoostingRegressor\n",
    "from sklearn.ensemble import RandomForestRegressor\n",
    "\n",
    "from scipy.stats import pearsonr\n",
    "from scipy.stats import ttest_1samp\n",
    "from sklearn.linear_model import LogisticRegression\n",
    "from sklearn.linear_model import LogisticRegressionCV\n",
    "\n",
    "import seaborn.apionly as sns\n",
    "sns.set_context(\"poster\")\n",
    "from IPython.display import display\n",
    "matplotlib.style.use('ggplot')\n",
    "%matplotlib inline\n"
   ]
  },
  {
   "cell_type": "code",
   "execution_count": 3,
   "metadata": {
    "collapsed": true,
    "hide": true
   },
   "outputs": [],
   "source": [
    "# we define a function to calculate the Concordance Correlation Coefficient (a measure to evaluate our models)\n",
    "def ccc_function(y,y_hat):\n",
    "    pcc, _ = pearsonr(y_hat,y)\n",
    "    ccc = 2 * pcc * y.std() * y_hat.std()/(y.var() + y_hat.var() + (y.mean() - y_hat.mean())**2)\n",
    "    return ccc"
   ]
  },
  {
   "cell_type": "code",
   "execution_count": 4,
   "metadata": {
    "collapsed": true,
    "hide": true
   },
   "outputs": [],
   "source": [
    "# function to evaluate our quantitative models and store the result in a summary dictionary\n",
    "def evaluate_and_store(y_train,y_hat_train,y_test,y_hat_test,name,summary):\n",
    "    # input:\n",
    "    # y_train,y_hat_train,y_test,y_hat_test\n",
    "    # summary: dictionary with fields model name, R2train, R2test, PCC and CCC\n",
    "    pcc, _ = pearsonr(y_test,y_hat_test)\n",
    "    ccc = ccc_function(y_test,y_hat_test)\n",
    "    r2train = r2_score(y_train,y_hat_train)\n",
    "    r2test = r2_score(y_test,y_hat_test)\n",
    "    summary['model name'].append(name)\n",
    "    summary['R2train'].append(r2train)\n",
    "    summary['R2test'].append(r2test)\n",
    "    summary['PCC'].append(pcc)\n",
    "    summary['CCC'].append(ccc)\n",
    "    return r2train,r2test,pcc,ccc,summary\n",
    "\n",
    "# set up a summary dictionary\n",
    "summary = {'model name':[],'R2train':[],'R2test':[],\"PCC\":[],'CCC':[]}\n"
   ]
  },
  {
   "cell_type": "markdown",
   "metadata": {},
   "source": [
    "## Baseline Model: Simple Linear Regression\n",
    "\n",
    "\n",
    "Our first step is to clean up the demographic variables and split our data into training and test sets. We group all the predictors (demographic + MRI imaging) together and extract 2 outcome variables: 1.) the MMSE score which we want to predict, and 2.) the diagnosis which we will use to evaluate the usefulness of our MMSE prediction in the last part.  \n",
    "We first try a simple linear regression model with all predictors and MMSE as the outcome."
   ]
  },
  {
   "cell_type": "code",
   "execution_count": 5,
   "metadata": {
    "collapsed": true,
    "hide": true
   },
   "outputs": [],
   "source": [
    "with open('mmse_data1.pickle', 'rb') as f:\n",
    "    (X_train,X_test,y_train,y_test,y_dx_train,y_dx_test,summary) = pickle.load(f)"
   ]
  },
  {
   "cell_type": "code",
   "execution_count": 7,
   "metadata": {
    "hide": true
   },
   "outputs": [
    {
     "name": "stdout",
     "output_type": "stream",
     "text": [
      "Linear regression with all predictors : \n",
      "R2 score on training set:  1.0\n",
      "R2 score on validation set:  -0.575703582103\n",
      "Pearson's correlation coefficient between estimate and ground truth(test set) 0.292637073937\n",
      "Concordance correlation coefficient between estimate and ground truth(test set) 0.29124810158\n"
     ]
    }
   ],
   "source": [
    "\n",
    "# try a super-simple linear regression model on all predictors\n",
    "simple_est = LinearRegression(fit_intercept = True)\n",
    "simple_est.fit(X_train,y_train)\n",
    "y_hat_train = simple_est.predict(X_train)\n",
    "y_hat_test = simple_est.predict(X_test)\n",
    "\n",
    "name = 'Linear regression with all predictors'\n",
    "r2train, r2test, pcc, ccc, summary = evaluate_and_store(y_train,y_hat_train,y_test,y_hat_test,name,summary)\n",
    "\n",
    "print(name,': ')\n",
    "print('R2 score on training set: ',r2train)\n",
    "print('R2 score on validation set: ',r2test)\n",
    "print(\"Pearson's correlation coefficient between estimate and ground truth(test set)\", pcc)\n",
    "print(\"Concordance correlation coefficient between estimate and ground truth(test set)\", ccc)"
   ]
  },
  {
   "cell_type": "markdown",
   "metadata": {},
   "source": [
    "Because of the large number of predictors and the multi-colinearity of the predictors, the model with all predictors suffers from high variance which is characterized by a large discrepancy between performances on the training and test sets. Overall, variance appears to be the biggest problem in predicting this dataset. We will use principal component analysis, stepwise feature selection and ensemble strategies to reduce the dimensionality and eliminate colinearity. In addition, we will try regularization to further reduce variance problems."
   ]
  },
  {
   "cell_type": "markdown",
   "metadata": {},
   "source": [
    "## Principal Component Analysis and Regularized Linear Regression\n",
    "  \n",
    "    \n",
    "    \n",
    "First, we reduce the dimensionality by principal component analysis and keep enough principal components that capture 90% of the variance in the data. "
   ]
  },
  {
   "cell_type": "code",
   "execution_count": 8,
   "metadata": {
    "hide": true
   },
   "outputs": [
    {
     "name": "stdout",
     "output_type": "stream",
     "text": [
      "Number of PCs accounting for 90% of variance:  197\n"
     ]
    }
   ],
   "source": [
    "# PCA transformation with PCs that account for 90% of variance in training set\n",
    "fullpca = PCA(n_components = 0.9,svd_solver = 'full')\n",
    "X_train_pca = fullpca.fit_transform(X_train)\n",
    "X_test_pca = fullpca.transform(X_test)\n",
    "total_pcs = X_train_pca.shape[1]\n",
    "print(\"Number of PCs accounting for 90% of variance: \", total_pcs)"
   ]
  },
  {
   "cell_type": "markdown",
   "metadata": {},
   "source": [
    "We still have 197 components/predictors left after principal component analysis. Let's try a simple linear regression model on these:"
   ]
  },
  {
   "cell_type": "code",
   "execution_count": 10,
   "metadata": {
    "hide": true
   },
   "outputs": [
    {
     "name": "stdout",
     "output_type": "stream",
     "text": [
      "Linear regression on 197 PCs : \n",
      "R2 score on training set:  0.607144507434\n",
      "R2 score on validation set:  0.146129866785\n",
      "Pearson's correlation coefficient between estimate and ground truth(test set) 0.462698583976\n",
      "Concordance correlation coefficient between estimate and ground truth(test set) 0.434770218566\n"
     ]
    }
   ],
   "source": [
    "# try a simple linear regression model without regularization on all 197 PCs\n",
    "pca_lin_est = LinearRegression(fit_intercept = True)\n",
    "pca_lin_est.fit(X_train_pca,y_train)\n",
    "y_hat_train = pca_lin_est.predict(X_train_pca)\n",
    "y_hat_test = pca_lin_est.predict(X_test_pca)\n",
    "\n",
    "name = 'Linear regression on {} PCs'.format(total_pcs)\n",
    "r2train, r2test, pcc, ccc, summary = evaluate_and_store(y_train,y_hat_train,y_test,y_hat_test,name,summary)\n",
    "\n",
    "print(name,': ')\n",
    "print('R2 score on training set: ',r2train)\n",
    "print('R2 score on validation set: ',r2test)\n",
    "print(\"Pearson's correlation coefficient between estimate and ground truth(test set)\", pcc)\n",
    "print(\"Concordance correlation coefficient between estimate and ground truth(test set)\", ccc)"
   ]
  },
  {
   "cell_type": "markdown",
   "metadata": {},
   "source": [
    "While our test set performance has improved, we still have a relatively high discrepancy between performance on the training and test set which is indicative of variance problems. Even though we have eliminated co-linearity between predictors through PCA, this does not mean that each of our predictors is correlated with our outcome variable MMSE. We will try different types of regularization to reduce variance and improve our bias/variance trade-off.  \n",
    "We first try ridge regularization with cross-validation to identify the ideal regularization strength hyper-parameter, then train on the whole training set with the optimal parameter."
   ]
  },
  {
   "cell_type": "code",
   "execution_count": 11,
   "metadata": {
    "hide": true
   },
   "outputs": [
    {
     "name": "stdout",
     "output_type": "stream",
     "text": [
      "Ridge regression with 197 PCs : \n",
      "Regularization parameter:  5000\n",
      "R2 score on training set:  0.471061556011\n",
      "R2 score on validation set:  0.265014380849\n",
      "Pearson's correlation coefficient between estimate and ground truth(test set) 0.518424013095\n",
      "Concordance correlation coefficient between estimate and ground truth(test set) 0.419587774173\n"
     ]
    }
   ],
   "source": [
    "# try ridge regularization\n",
    "alphas = [100000,50000,10000,5000,1000,500,100,50,10,5,1,0.5,0.1,0.05,0.01]\n",
    "\n",
    "ridge_pca_est = RidgeCV(alphas=alphas,fit_intercept = True,cv=5)\n",
    "ridge_pca_est.fit(X_train_pca,y_train)\n",
    "best_alpha = ridge_pca_est.alpha_\n",
    "\n",
    "# now train on whole training set with best alpha\n",
    "ridge_pca_est = Ridge(alpha=best_alpha,fit_intercept = True)\n",
    "ridge_pca_est.fit(X_train_pca,y_train)\n",
    "y_hat_train = ridge_pca_est.predict(X_train_pca)\n",
    "y_hat_test = ridge_pca_est.predict(X_test_pca)\n",
    "\n",
    "name = 'Ridge regression with {} PCs'.format(total_pcs)\n",
    "r2train, r2test, pcc, ccc, summary = evaluate_and_store(y_train,y_hat_train,y_test,y_hat_test,name,summary)\n",
    "\n",
    "print(name,': ')\n",
    "print('Regularization parameter: ', best_alpha)\n",
    "print('R2 score on training set: ',r2train)\n",
    "print('R2 score on validation set: ',r2test)\n",
    "print(\"Pearson's correlation coefficient between estimate and ground truth(test set)\", pcc)\n",
    "print(\"Concordance correlation coefficient between estimate and ground truth(test set)\", ccc)"
   ]
  },
  {
   "cell_type": "markdown",
   "metadata": {},
   "source": [
    "This has improved our R2 score on the test set quite dramatically. We try another type of regularization, Elastic Net regularization. This method combines L1 (Lasso) and L2 (Ridge) regularization. We cross-validate for regularization strength and the ratio between L1 and L2."
   ]
  },
  {
   "cell_type": "code",
   "execution_count": 16,
   "metadata": {
    "hide": true
   },
   "outputs": [
    {
     "name": "stdout",
     "output_type": "stream",
     "text": [
      "Elastic Net regression with 197 PCs : \n",
      "Regularization parameter:  10.0\n",
      "L1 ratio:  0.01\n",
      "R2 score on training set:  0.430632422622\n",
      "R2 score on validation set:  0.267113344982\n",
      "Pearson's correlation coefficient between estimate and ground truth(test set) 0.52064312814\n",
      "Concordance correlation coefficient between estimate and ground truth(test set) 0.41525211834\n"
     ]
    }
   ],
   "source": [
    "# elastic net regularization\n",
    "ratios = [.001,.01,.1, .5, .7, .9, .95, .99, 1]\n",
    "elnet_est = ElasticNetCV(l1_ratio = ratios, alphas=alphas,fit_intercept = True,cv=5)\n",
    "elnet_est.fit(X_train_pca,y_train)\n",
    "best_alpha = elnet_est.alpha_\n",
    "best_ratio = elnet_est.l1_ratio_\n",
    "\n",
    "elnet_est = ElasticNet(l1_ratio = best_ratio, alpha=best_alpha,fit_intercept = True)\n",
    "elnet_est.fit(X_train_pca,y_train)\n",
    "y_hat_train = elnet_est.predict(X_train_pca)\n",
    "y_hat_test = elnet_est.predict(X_test_pca)\n",
    "\n",
    "name = 'Elastic Net regression with {} PCs'.format(total_pcs)\n",
    "r2train, r2test, pcc, ccc, summary = evaluate_and_store(y_train,y_hat_train,y_test,y_hat_test,name,summary)\n",
    "\n",
    "print(name,': ')\n",
    "print('Regularization parameter: ', best_alpha)\n",
    "print('L1 ratio: ',best_ratio)\n",
    "print('R2 score on training set: ',r2train)\n",
    "print('R2 score on validation set: ',r2test)\n",
    "print(\"Pearson's correlation coefficient between estimate and ground truth(test set)\", pcc)\n",
    "print(\"Concordance correlation coefficient between estimate and ground truth(test set)\", ccc)"
   ]
  },
  {
   "cell_type": "markdown",
   "metadata": {},
   "source": [
    "The Elastic Net regularization has not improved our model compared to ridge regularization. Moreover, the optimal ratio between L1 and L2 regularization  is very close to pure L2 regularization, further confirming ridge regularization as the optimal decision in this scenario."
   ]
  },
  {
   "cell_type": "markdown",
   "metadata": {},
   "source": [
    "As an alternative to regularization, we try to determine the optimal number of PCs to include in a simple linear regression model."
   ]
  },
  {
   "cell_type": "code",
   "execution_count": 17,
   "metadata": {
    "hide": true
   },
   "outputs": [
    {
     "name": "stdout",
     "output_type": "stream",
     "text": [
      "\n",
      "Optimal number of principal components:  20\n",
      "linear regression with 20 PCs : \n",
      "R2 score on training set:  0.321961145795\n",
      "R2 score on validation set:  0.226915996482\n",
      "Pearson's correlation coefficient between estimate and ground truth(test set) 0.486073194638\n",
      "Concordance correlation coefficient between estimate and ground truth(test set) 0.41508971522\n"
     ]
    },
    {
     "data": {
      "image/png": "[encoded data removed]",
      "text/plain": [
       "<matplotlib.figure.Figure at 0x1171f97b8>"
      ]
     },
     "metadata": {},
     "output_type": "display_data"
    }
   ],
   "source": [
    "# find optimal number of PCs to include in model by determining the 5fold crossvalidation r2 score \n",
    "# in a linear regression model \n",
    "scorelist = []\n",
    "\n",
    "#pcs = range(1,total_pcs+1)\n",
    "pcs = [5,6,7,8,9,10,11,12,13,14,15,20,25,30,40,50,60,70,80,90,100,110,120,130,140,150,170,190]\n",
    "for use_pcs in pcs:\n",
    "    scores = cross_val_score(pca_lin_est,X_train_pca[:,:use_pcs],y_train,cv=5)\n",
    "    scorelist.append(scores)\n",
    "    \n",
    "#plot crossvalidation score means and std as a function of number of PCs\n",
    "score_array = np.vstack(scorelist)    \n",
    "valid_means = score_array.mean(axis=1)\n",
    "valid_stds = score_array.std(axis=1)\n",
    "\n",
    "fig4 = plt.figure(figsize = [12,8])\n",
    "plt.title('Fig.4: Effect of number of PCs', fontsize = 24)\n",
    "ax = plt.gca()\n",
    "plt.plot(pcs,valid_means)\n",
    "ax.fill_between(pcs,valid_means+valid_stds,valid_means-valid_stds,alpha = 0.2)\n",
    "ax.set_ylabel('Cross-validation score')\n",
    "ax.set_xlabel('Number of PCs')\n",
    "sns.despine()\n",
    "\n",
    "# determine optimal number of PCs based on crossvalidation score and fit a linear regression model\n",
    "optimal_pcs = pcs[np.argmax(valid_means)]\n",
    "print(\"\\nOptimal number of principal components: \",optimal_pcs)\n",
    "\n",
    "\n",
    "# fit to complete training set with best set of predictors (PCs)\n",
    "pca_lin_est.fit(X_train_pca[:,:optimal_pcs],y_train)\n",
    "\n",
    "# get stats\n",
    "y_hat_train = pca_lin_est.predict(X_train_pca[:,:optimal_pcs])\n",
    "y_hat_test = pca_lin_est.predict(X_test_pca[:,:optimal_pcs])\n",
    "\n",
    "name = 'linear regression with {} PCs'.format(optimal_pcs)\n",
    "r2train, r2test, pcc, ccc, summary = evaluate_and_store(y_train,y_hat_train,y_test,y_hat_test,name,summary)\n",
    "\n",
    "print(name,': ')\n",
    "print('R2 score on training set: ',r2train)\n",
    "print('R2 score on validation set: ',r2test)\n",
    "print(\"Pearson's correlation coefficient between estimate and ground truth(test set)\", pcc)\n",
    "print(\"Concordance correlation coefficient between estimate and ground truth(test set)\", ccc)"
   ]
  },
  {
   "cell_type": "markdown",
   "metadata": {},
   "source": [
    "Based on our cross-validation results, including the first 5 principal components yields the best test R2 score. This is also illustrated in the figure above. The test R2 score of this unregularized model with 20 PCs is comparable to the Ridge regression model on all 197 PCs. Further regularization does not improve this model (data not shown)."
   ]
  },
  {
   "cell_type": "markdown",
   "metadata": {},
   "source": [
    "## Step-wise feature selection based on cross-validation score\n",
    "  \n",
    "    \n",
    "In lieu of PCA, we also try dimensionality reduction by step-wise feature selection. We first split our training set into a smaller training set to stepwise select predictors and a validation set to select the number of predictors to keep. We use a simple linear regression model without regularization for this purpose."
   ]
  },
  {
   "cell_type": "code",
   "execution_count": 18,
   "metadata": {
    "collapsed": true,
    "hide": true
   },
   "outputs": [],
   "source": [
    "# we split off another validation set to choose the number of features \n",
    "X_train_sm, X_valid,y_train_sm,y_valid = train_test_split(X_train,y_train,test_size= 150,random_state = 7)\n",
    "\n",
    "# now we select predictors stepwise by crossvalidation\n",
    "all_predictors = X_train.columns.values\n",
    "predictors = []\n",
    "\n",
    "# add predictors step-wise\n",
    "max_predictors = 30 \n",
    "for k in range(1, max_predictors):\n",
    "    \n",
    "    if k == 1:\n",
    "        used_predictors = []\n",
    "    else:\n",
    "        used_predictors = predictors[-1]\n",
    "    \n",
    "    # get currently unused predictors\n",
    "    unused_predictors = list(set(all_predictors) - set(used_predictors))\n",
    "    \n",
    "    # add each of the unused predictors one at a time and store the mean of cross-validation scores\n",
    "    xvalscores = []\n",
    "    for predictor in unused_predictors:\n",
    "        # cross validate with chosen predictors on small training set\n",
    "        k_predictors = used_predictors + [predictor]\n",
    "        X_train_k = X_train_sm[k_predictors]\n",
    "        linreg_est = LinearRegression(fit_intercept = True)\n",
    "        kf = KFold(n_splits=3, shuffle=True, random_state=7)\n",
    "        score = cross_val_score(linreg_est,X_train_k,y_train_sm,cv=kf).mean()\n",
    "        xvalscores.append(score)\n",
    "    \n",
    "    # then choose the predictor that gives the best cross-validation score and add it to the list of used predictors\n",
    "    best_k = used_predictors + [unused_predictors[np.argmax(xvalscores)]]\n",
    "    predictors.append(best_k)"
   ]
  },
  {
   "cell_type": "code",
   "execution_count": 19,
   "metadata": {
    "hide": true
   },
   "outputs": [
    {
     "name": "stdout",
     "output_type": "stream",
     "text": [
      "linear regression with 5 predictors : \n",
      "optimal number of predictors:  5\n",
      "predictors:  ['FreeSurfer.thickness..mean.1009', 'FreeSurfer.thickness..mean.2006', 'mean.curvature..kurtosis.1007', 'geodesic.depth..SD.1011', 'PTEDUCAT']\n",
      "R2 score on training set:  0.347888052415\n",
      "R2 score on validation set:  0.263384791347\n",
      "Pearson's correlation coefficient between estimate and ground truth(test set) 0.522998265342\n",
      "Concordance correlation coefficient between estimate and ground truth(test set) 0.457283947517\n"
     ]
    },
    {
     "data": {
      "image/png": "[encoded data removed]",
      "text/plain": [
       "<matplotlib.figure.Figure at 0x116e5af98>"
      ]
     },
     "metadata": {},
     "output_type": "display_data"
    }
   ],
   "source": [
    "# we now choose the number of predictors based on the R2 score on the held-out validation set\n",
    "train_scores = []\n",
    "valid_scores = []\n",
    "# loop through sets of predictors\n",
    "for p in predictors:\n",
    "    #fit a linear regression model with chosen set of predictors on small training set\n",
    "    linreg_est.fit(X_train_sm[p],y_train_sm)\n",
    "    \n",
    "    # get R2 score for small training set and validation set\n",
    "    y_hat_train_sm = linreg_est.predict(X_train_sm[p])\n",
    "    y_hat_valid = linreg_est.predict(X_valid[p])\n",
    "    \n",
    "    train_scores.append(r2_score(y_train_sm,y_hat_train_sm))\n",
    "    valid_scores.append(r2_score(y_valid,y_hat_valid))\n",
    "\n",
    "# plot train and validation set scores as a function of number of predictors\n",
    "fig5 = plt.figure(figsize= [15,8])\n",
    "plt.plot(range(1, max_predictors),train_scores)\n",
    "plt.plot(range(1, max_predictors),valid_scores)\n",
    "plt.title('Fig.5: Stepwise Feature Selection by R2 score',fontsize=24)\n",
    "plt.xlabel('number of predictors')\n",
    "plt.ylabel('score')\n",
    "plt.legend(['training','validation'])\n",
    "\n",
    "# choose the model with the best test score\n",
    "best_predictors = predictors[np.argmax(valid_scores)]\n",
    "\n",
    "# extract best predictors to new dataframe\n",
    "X_train_feat = X_train[best_predictors]\n",
    "X_test_feat = X_test[best_predictors]\n",
    "\n",
    "# fit linear regression model to complete (not small) training set and evaluate on training and test set\n",
    "linreg_est = LinearRegression()\n",
    "linreg_est.fit(X_train_feat,y_train)\n",
    "y_hat_train = linreg_est.predict(X_train_feat)\n",
    "y_hat_test = linreg_est.predict(X_test_feat)\n",
    "\n",
    "name = 'linear regression with {} predictors'.format(len(best_predictors))\n",
    "r2train, r2test, pcc, ccc, summary = evaluate_and_store(y_train,y_hat_train,y_test,y_hat_test,name,summary)\n",
    "\n",
    "print(name,': ')\n",
    "print('optimal number of predictors: ',len(best_predictors))\n",
    "print('predictors: ',best_predictors)\n",
    "print('R2 score on training set: ',r2train)\n",
    "print('R2 score on validation set: ',r2test)\n",
    "print(\"Pearson's correlation coefficient between estimate and ground truth(test set)\", pcc)\n",
    "print(\"Concordance correlation coefficient between estimate and ground truth(test set)\", ccc)"
   ]
  },
  {
   "cell_type": "markdown",
   "metadata": {},
   "source": [
    "The graph shows that the bias/variance trade-off is optimal for a model with 5 predictors where the R2 score on the validation set is highest. This simple linear regression model with only 5 predictors and no regularization achieves a similar performance as the PCA models. We next check if regularization (Ridge Regularization with Cross-validation) improves this model further."
   ]
  },
  {
   "cell_type": "code",
   "execution_count": 20,
   "metadata": {
    "hide": true
   },
   "outputs": [
    {
     "name": "stdout",
     "output_type": "stream",
     "text": [
      "linear regression model with Ridge regularization on 197 PCA predictors : \n",
      "Regularization parameter for Ridge regularization:  50\n",
      "R2 score on training set:  0.346354646594\n",
      "R2 score on validation set:  0.267638593243\n",
      "Pearson's correlation coefficient between estimate and ground truth(test set) 0.522653783263\n",
      "Concordance correlation coefficient between estimate and ground truth(test set) 0.441699871133\n"
     ]
    }
   ],
   "source": [
    "# test if regularization improves the model\n",
    "ridge_feat_est = RidgeCV(alphas=alphas,fit_intercept = True,cv=5)\n",
    "ridge_feat_est.fit(X_train_feat,y_train)\n",
    "best_alpha = ridge_feat_est.alpha_\n",
    "\n",
    "# now train on whole training set with best alpha\n",
    "ridge_feat_est.fit(X_train_feat,y_train)\n",
    "y_hat_train = ridge_feat_est.predict(X_train_feat)\n",
    "y_hat_test = ridge_feat_est.predict(X_test_feat)\n",
    "\n",
    "name = 'linear regression model with Ridge regularization on {} PCA predictors'.format(total_pcs)\n",
    "r2train, r2test, pcc, ccc, summary = evaluate_and_store(y_train,y_hat_train,y_test,y_hat_test,name,summary)\n",
    "\n",
    "print(name,': ')\n",
    "print(\"Regularization parameter for Ridge regularization: \",best_alpha)\n",
    "print('R2 score on training set: ',r2train)\n",
    "print('R2 score on validation set: ',r2test)\n",
    "print(\"Pearson's correlation coefficient between estimate and ground truth(test set)\", pcc)\n",
    "print(\"Concordance correlation coefficient between estimate and ground truth(test set)\", ccc)\n"
   ]
  },
  {
   "cell_type": "markdown",
   "metadata": {},
   "source": [
    "Regularization does not appear to improve the plain linear regression model further."
   ]
  },
  {
   "cell_type": "markdown",
   "metadata": {},
   "source": [
    "## Ensemble Methods\n",
    "  \n",
    "### Random Forest Regressor\n",
    "  \n",
    "   \n",
    "Ensemble methods like Random Forest Regression or Gradient Boosting are another way to reduce the number of features being considered in the model. We first try Random Forest Regression and crossvalidate to optimize the maximum depth of the trees on a relatively small number of trees (64), we fix the number of features to the square root of all features (46). We then increase the number of trees to 512 to acchieve a slightly better model. Because of the long time it takes to compute these Random Forests we did not perform an exhaustive grid search of all hyper-parameters."
   ]
  },
  {
   "cell_type": "code",
   "execution_count": 21,
   "metadata": {
    "hide": true
   },
   "outputs": [
    {
     "name": "stdout",
     "output_type": "stream",
     "text": [
      "RandomForestRegressor(bootstrap=True, criterion='mse', max_depth=6,\n",
      "           max_features='sqrt', max_leaf_nodes=None,\n",
      "           min_impurity_decrease=0.0, min_impurity_split=None,\n",
      "           min_samples_leaf=1, min_samples_split=2,\n",
      "           min_weight_fraction_leaf=0.0, n_estimators=64, n_jobs=1,\n",
      "           oob_score=False, random_state=7, verbose=0, warm_start=False)\n",
      "optimal max_depth:  6\n"
     ]
    }
   ],
   "source": [
    "# because the random forest regression takes a long time to train , we just optimize for the tree depth\n",
    "# we set the max_features to 'sqrt' and the number of trees to 64\n",
    "# rf = RandomForestRegressor(n_estimators = 64,max_features = 'sqrt',random_state=7)\n",
    "rf = RandomForestRegressor(n_estimators = 64,max_features = 'sqrt',random_state=7)\n",
    "\n",
    "parameters = {'max_depth':[i for i in range(3,15)]}\n",
    "gs_rf = GridSearchCV(rf,parameters)\n",
    "gs_rf.fit(X_train,y_train)\n",
    "print(gs_rf.best_estimator_)\n",
    "print('optimal max_depth: ',gs_rf.best_estimator_.max_depth)"
   ]
  },
  {
   "cell_type": "code",
   "execution_count": 22,
   "metadata": {
    "hide": true
   },
   "outputs": [
    {
     "name": "stdout",
     "output_type": "stream",
     "text": [
      "Random Forest Regressor with all predictors : \n",
      "R2 score on training set:  0.796739832447\n",
      "R2 score on validation set:  0.240607085902\n",
      "Pearson's correlation coefficient between estimate and ground truth(test set) 0.497885936163\n",
      "Concordance correlation coefficient between estimate and ground truth(test set) 0.351548345382\n"
     ]
    }
   ],
   "source": [
    "# we then increase the number of trees to improve our model\n",
    "rf_est = RandomForestRegressor(n_estimators = 512,max_features = 'sqrt',max_depth = 7)\n",
    "rf_est.fit(X_train,y_train)\n",
    "y_hat_train = rf_est.predict(X_train)\n",
    "y_hat_test = rf_est.predict(X_test)\n",
    "\n",
    "name = 'Random Forest Regressor with all predictors'\n",
    "r2train, r2test, pcc, ccc, summary = evaluate_and_store(y_train,y_hat_train,y_test,y_hat_test,name,summary)\n",
    "\n",
    "print(name,': ')\n",
    "print('R2 score on training set: ',r2train)\n",
    "print('R2 score on validation set: ',r2test)\n",
    "print(\"Pearson's correlation coefficient between estimate and ground truth(test set)\", pcc)\n",
    "print(\"Concordance correlation coefficient between estimate and ground truth(test set)\", ccc)\n"
   ]
  },
  {
   "cell_type": "markdown",
   "metadata": {},
   "source": [
    "At least for the limited set of hyper-parameters we tested, the random forest model does not perform as well as our previous models."
   ]
  },
  {
   "cell_type": "markdown",
   "metadata": {},
   "source": [
    "### Gradient Boosting Regressor\n",
    "  \n",
    "We then tried a Gradient Boosting Regressor for our prediction using crossvalidation to determine the optimal depth of the individual estimators as well as the number of estimators. We then retrain on the complete training set and acchieve the best model performance so far:"
   ]
  },
  {
   "cell_type": "code",
   "execution_count": 23,
   "metadata": {
    "hide": true
   },
   "outputs": [
    {
     "name": "stdout",
     "output_type": "stream",
     "text": [
      "GradientBoostingRegressor(alpha=0.9, criterion='friedman_mse', init=None,\n",
      "             learning_rate=0.1, loss='ls', max_depth=4, max_features=None,\n",
      "             max_leaf_nodes=None, min_impurity_decrease=0.0,\n",
      "             min_impurity_split=None, min_samples_leaf=1,\n",
      "             min_samples_split=2, min_weight_fraction_leaf=0.0,\n",
      "             n_estimators=100, presort='auto', random_state=None,\n",
      "             subsample=1.0, verbose=0, warm_start=False)\n"
     ]
    }
   ],
   "source": [
    "# try Gradient Boosting\n",
    "gbr = GradientBoostingRegressor()\n",
    "parameters = {'max_depth':[i for i in range(1,5)],'n_estimators':[i*50 for i in range(1,4)]}\n",
    "gs_gbr = GridSearchCV(gbr,parameters)\n",
    "gs_gbr.fit(X_train,y_train)\n",
    "print(gs_gbr.best_estimator_)"
   ]
  },
  {
   "cell_type": "code",
   "execution_count": 24,
   "metadata": {
    "hide": true
   },
   "outputs": [
    {
     "name": "stdout",
     "output_type": "stream",
     "text": [
      "gradient boosting regressor with all predictors : \n",
      "R2 score on training set:  0.996073175562\n",
      "R2 score on validation set:  0.289511344235\n",
      "Pearson's correlation coefficient between estimate and ground truth(test set) 0.538660917627\n",
      "Concordance correlation coefficient between estimate and ground truth(test set) 0.458527158448\n"
     ]
    }
   ],
   "source": [
    "# retrain on the complete training set with optimal parameters\n",
    "gbr_est = GradientBoostingRegressor(max_depth=4,n_estimators=100)\n",
    "gbr_est.fit(X_train,y_train)\n",
    "\n",
    "y_hat_train = gbr_est.predict(X_train)\n",
    "y_hat_test = gbr_est.predict(X_test)\n",
    "\n",
    "\n",
    "name = 'gradient boosting regressor with all predictors'\n",
    "r2train, r2test, pcc, ccc, summary = evaluate_and_store(y_train,y_hat_train,y_test,y_hat_test,name,summary)\n",
    "#display(pd.DataFrame(np.array([name,r2train, r2test, pcc, ccc]).reshape(1,-1),columns=['model name','R2 train','R2 test',\\\n",
    "#                                                                \"Pearson's Correlation Coefficient\",\\\n",
    "#                                                               \"Concordance Correlation Coefficient\"]))\n",
    "\n",
    "print(name,': ')\n",
    "print('R2 score on training set: ',r2train)\n",
    "print('R2 score on validation set: ',r2test)\n",
    "print(\"Pearson's correlation coefficient between estimate and ground truth(test set)\", pcc)\n",
    "print(\"Concordance correlation coefficient between estimate and ground truth(test set)\", ccc)\n"
   ]
  },
  {
   "cell_type": "code",
   "execution_count": null,
   "metadata": {
    "collapsed": true
   },
   "outputs": [],
   "source": []
  }
 ],
 "metadata": {
  "celltoolbar": "Edit Metadata",
  "kernelspec": {
   "display_name": "Python 3",
   "language": "python",
   "name": "python3"
  },
  "language_info": {
   "codemirror_mode": {
    "name": "ipython",
    "version": 3
   },
   "file_extension": ".py",
   "mimetype": "text/x-python",
   "name": "python",
   "nbconvert_exporter": "python",
   "pygments_lexer": "ipython3",
   "version": "3.6.2"
  }
 },
 "nbformat": 4,
 "nbformat_minor": 2
}
